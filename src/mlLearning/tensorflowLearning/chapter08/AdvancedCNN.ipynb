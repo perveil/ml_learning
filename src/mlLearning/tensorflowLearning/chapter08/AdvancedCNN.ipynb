{
 "cells": [
  {
   "cell_type": "code",
   "execution_count": 1,
   "metadata": {
    "collapsed": true,
    "pycharm": {
     "is_executing": false
    }
   },
   "outputs": [],
   "source": [
    "import os\n",
    "import sys\n",
    "import tarfile\n",
    "import matplotlib.pyplot as plt\n",
    "import numpy as np\n",
    "import tensorflow as tf\n",
    "from six.moves import urllib\n",
    "\n",
    "sess = tf.Session()\n"
   ]
  },
  {
   "cell_type": "code",
   "execution_count": 2,
   "outputs": [],
   "source": [
    "#define hyper paramaters\n",
    "bacth_size=128 \n",
    "output_every=50\n",
    "generations=20000\n",
    "eval_every=500 #每训练500次，衡量一次模型\n",
    "image_width=32\n",
    "image_height=32\n",
    "\n",
    "crop_height=24 #size of cropped images will take\n",
    "crop_width=24\n",
    "\n",
    "num_channels=3\n",
    "num_targets=10 #十分类\n",
    "\n",
    "  \n"
   ],
   "metadata": {
    "collapsed": false,
    "pycharm": {
     "name": "#%%\n",
     "is_executing": false
    }
   }
  },
  {
   "cell_type": "code",
   "execution_count": 3,
   "outputs": [],
   "source": [
    "#在model的迭代过程中，适当降低lr（指数减少）\n",
    "#newLr=0.1 *0.9^{x/250}   notes：x is the current generation number\n",
    "#tensorflow 有个函数为 staircase\n",
    "learning_rate = 0.1\n",
    "lr_decay = 0.9\n",
    "num_gens_to_wait = 250."
   ],
   "metadata": {
    "collapsed": false,
    "pycharm": {
     "name": "#%%\n",
     "is_executing": false
    }
   }
  },
  {
   "cell_type": "code",
   "execution_count": 4,
   "outputs": [],
   "source": [
    "image_vec_length = image_height * image_width * num_channels\n",
    "record_length = 1 + image_vec_length  # label 1  input 32*32*3"
   ],
   "metadata": {
    "collapsed": false,
    "pycharm": {
     "name": "#%%\n",
     "is_executing": false
    }
   }
  },
  {
   "cell_type": "code",
   "execution_count": 5,
   "outputs": [],
   "source": [
    "data_dir='./CNNdata/cifar-10-binary/cifar-10-batches-bin'   #data所在目录底下\n",
    "\n",
    "def read_cifar_files(filename_queue, distort_images = True):\n",
    "    reader = tf.FixedLengthRecordReader(record_bytes=record_length) #定长读取\n",
    "    key, record_string = reader.read(filename_queue)\n",
    "    record_bytes = tf.decode_raw(record_string, tf.uint8)\n",
    "    image_label = tf.cast(tf.slice(record_bytes, [0], [1]), tf.int32) #slice 切割 label\n",
    "    image_extracted = tf.reshape(tf.slice(record_bytes, [1], [image_vec_length]), [num_channels, image_height, image_width])\n",
    "    image_uint8image = tf.transpose(image_extracted, [1, 2, 0])\n",
    "    reshaped_image = tf.cast(image_uint8image, tf.float32)\n",
    "    final_image = tf.image.resize_image_with_crop_or_pad(reshaped_image, crop_width, crop_height)\n",
    "    if distort_images:\n",
    "        final_image = tf.image.random_flip_left_right(final_image)\n",
    "        final_image = tf.image.random_brightness(final_image,max_delta=63)\n",
    "        final_image = tf.image.random_contrast(final_image,lower=0.2, upper=1.8)\n",
    "        final_image = tf.image.per_image_whitening(final_image)\n",
    "    return(final_image, image_label)\n"
   ],
   "metadata": {
    "collapsed": false,
    "pycharm": {
     "name": "#%%\n",
     "is_executing": false
    }
   }
  },
  {
   "cell_type": "code",
   "execution_count": 6,
   "outputs": [],
   "source": [
    "def input_pipeline(batch_size, train_logical=True):\n",
    "     if train_logical:\n",
    "         files = [os.path.join(data_dir,'data_batch_{}.bin'.format(i)) for i in range(1,6)]\n",
    "     else:\n",
    "         files = [os.path.join(data_dir, 'test_batch.bin')]\n",
    "     filename_queue = tf.train.string_input_producer(files) #输出字符串到一个管道队列\n",
    "     image, label = read_cifar_files(filename_queue)        #读取一张图片\n",
    "     min_after_dequeue = 1000\n",
    "     capacity = min_after_dequeue + 3 * batch_size\n",
    "     example_batch, label_batch = tf.train.shuffle_batch([image, label], batch_size, capacity, min_after_dequeue)\n",
    "     return(example_batch, label_batch)"
   ],
   "metadata": {
    "collapsed": false,
    "pycharm": {
     "name": "#%%\n",
     "is_executing": false
    }
   }
  },
  {
   "cell_type": "code",
   "execution_count": 7,
   "outputs": [],
   "source": [],
   "metadata": {
    "collapsed": false,
    "pycharm": {
     "name": "#%%\n",
     "is_executing": false
    }
   }
  },
  {
   "cell_type": "code",
   "execution_count": null,
   "outputs": [],
   "source": [
    "\n"
   ],
   "metadata": {
    "collapsed": false,
    "pycharm": {
     "name": "#%%\n"
    }
   }
  }
 ],
 "metadata": {
  "kernelspec": {
   "display_name": "Python 3",
   "language": "python",
   "name": "python3"
  },
  "language_info": {
   "codemirror_mode": {
    "name": "ipython",
    "version": 2
   },
   "file_extension": ".py",
   "mimetype": "text/x-python",
   "name": "python",
   "nbconvert_exporter": "python",
   "pygments_lexer": "ipython2",
   "version": "2.7.6"
  },
  "pycharm": {
   "stem_cell": {
    "cell_type": "raw",
    "source": [],
    "metadata": {
     "collapsed": false
    }
   }
  }
 },
 "nbformat": 4,
 "nbformat_minor": 0
}