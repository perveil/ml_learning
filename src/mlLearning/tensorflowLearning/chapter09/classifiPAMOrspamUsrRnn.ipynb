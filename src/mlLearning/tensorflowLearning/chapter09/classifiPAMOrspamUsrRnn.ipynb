{
 "cells": [
  {
   "cell_type": "code",
   "execution_count": 5,
   "metadata": {
    "collapsed": true,
    "pycharm": {
     "is_executing": false
    }
   },
   "outputs": [],
   "source": [
    "import os\n",
    "import re\n",
    "import io\n",
    "import requests\n",
    "import numpy as np\n",
    "import matplotlib.pyplot as plt\n",
    "import tensorflow as tf\n",
    "from zipfile import ZipFile"
   ]
  },
  {
   "cell_type": "code",
   "execution_count": 3,
   "outputs": [],
   "source": [
    "sess = tf.Session() #初始化计算图\n",
    "epochs = 20 #迭代次数\n",
    "batch_size = 250 \n",
    "max_sequence_length = 25 #每次输入的sentence的最大长度\n",
    "rnn_size = 10 #RNN 的unit 个数\n",
    "embedding_size = 50 #每一个词的embed 表达，embed的计算被引入到了神经网络之中\n",
    "min_word_frequency = 10 #只有在字典中出现了10次以上的词才会被统计\n",
    "learning_rate = 0.0005  #lr\n",
    "dropout_keep_prob = tf.placeholder(tf.float32) #dropout有利于避免过拟合"
   ],
   "metadata": {
    "collapsed": false,
    "pycharm": {
     "name": "#%% \n",
     "is_executing": false
    }
   }
  },
  {
   "cell_type": "code",
   "execution_count": 6,
   "outputs": [],
   "source": [
    "zip_url = 'http://archive.ics.uci.edu/ml/machine-learning-databases/00228/smsspamcollection.zip'\n",
    "r=requests.get(zip_url)\n",
    "z = ZipFile(io.BytesIO(r.content))\n",
    "file = z.read('SMSSpamCollection')\n",
    "text_data = file.decode()\n",
    "text_data = text_data.encode('ascii',errors='ignore')\n",
    "text_data = text_data.decode().split('\\n')\n",
    "text_data = [x.split('\\t') for x in text_data if len(x)>=1]\n",
    "[text_data_target, text_data_train] = [list(x) for x in zip(*text_data)]"
   ],
   "metadata": {
    "collapsed": false,
    "pycharm": {
     "name": "#%%\n",
     "is_executing": false
    }
   }
  },
  {
   "cell_type": "code",
   "execution_count": 7,
   "outputs": [],
   "source": [
    "def clean_text(text_string):\n",
    " text_string = re.sub(r'([^\\s\\w]|_|[0-9])+', '', text_string)\n",
    " text_string = \" \".join(text_string.split())\n",
    " text_string = text_string.lower()\n",
    " return(text_string)\n",
    "text_data_train = [clean_text(x) for x in text_data_train]\n"
   ],
   "metadata": {
    "collapsed": false,
    "pycharm": {
     "name": "#%%\n",
     "is_executing": false
    }
   }
  },
  {
   "cell_type": "code",
   "execution_count": 8,
   "outputs": [
    {
     "name": "stdout",
     "text": [
      "\n",
      "WARNING: The TensorFlow contrib module will not be included in TensorFlow 2.0.\n",
      "For more information, please see:\n",
      "  * https://github.com/tensorflow/community/blob/master/rfcs/20180907-contrib-sunset.md\n",
      "  * https://github.com/tensorflow/addons\n",
      "If you depend on functionality not listed there, please file an issue.\n",
      "\n",
      "WARNING:tensorflow:From <ipython-input-8-c85a2f4aec86>:1: VocabularyProcessor.__init__ (from tensorflow.contrib.learn.python.learn.preprocessing.text) is deprecated and will be removed in a future version.\n",
      "Instructions for updating:\n",
      "Please use tensorflow/transform or tf.data.\n",
      "WARNING:tensorflow:From D:\\software\\anaconda\\lib\\site-packages\\tensorflow\\contrib\\learn\\python\\learn\\preprocessing\\text.py:154: CategoricalVocabulary.__init__ (from tensorflow.contrib.learn.python.learn.preprocessing.categorical_vocabulary) is deprecated and will be removed in a future version.\n",
      "Instructions for updating:\n",
      "Please use tensorflow/transform or tf.data.\n",
      "WARNING:tensorflow:From D:\\software\\anaconda\\lib\\site-packages\\tensorflow\\contrib\\learn\\python\\learn\\preprocessing\\text.py:170: tokenizer (from tensorflow.contrib.learn.python.learn.preprocessing.text) is deprecated and will be removed in a future version.\n",
      "Instructions for updating:\n",
      "Please use tensorflow/transform or tf.data.\n"
     ],
     "output_type": "stream"
    }
   ],
   "source": [
    "vocab_processor = tf.contrib.learn.preprocessing.VocabularyProcessor(max_sequence_length,min_frequency=min_word_frequency)\n",
    "text_processed = np.array(list(vocab_processor.fit_transform(text_data_train)))"
   ],
   "metadata": {
    "collapsed": false,
    "pycharm": {
     "name": "#%%\n",
     "is_executing": false
    }
   }
  },
  {
   "cell_type": "code",
   "execution_count": 9,
   "outputs": [],
   "source": [
    "text_processed = np.array(text_processed)\n",
    "text_data_target = np.array([1 if x=='ham' else 0 for x in text_data_target])\n",
    "shuffled_ix = np.random.permutation(np.arange(len(text_data_target)))\n",
    "x_shuffled = text_processed[shuffled_ix]\n",
    "y_shuffled = text_data_target[shuffled_ix]\n",
    "\n"
   ],
   "metadata": {
    "collapsed": false,
    "pycharm": {
     "name": "#%%\n",
     "is_executing": false
    }
   }
  },
  {
   "cell_type": "code",
   "execution_count": 10,
   "outputs": [],
   "source": [
    "ix_cutoff = int(len(y_shuffled)*0.80) #表示 train：test=0.8:0.2\n",
    "x_train, x_test = x_shuffled[:ix_cutoff], x_shuffled[ix_cutoff:]\n",
    "y_train, y_test = y_shuffled[:ix_cutoff], y_shuffled[ix_cutoff:]\n",
    "vocab_size = len(vocab_processor.vocabulary_)"
   ],
   "metadata": {
    "collapsed": false,
    "pycharm": {
     "name": "#%%\n",
     "is_executing": false
    }
   }
  },
  {
   "cell_type": "code",
   "execution_count": 11,
   "outputs": [
    {
     "name": "stdout",
     "text": [
      "WARNING:tensorflow:From D:\\software\\anaconda\\lib\\site-packages\\tensorflow\\python\\framework\\op_def_library.py:263: colocate_with (from tensorflow.python.framework.ops) is deprecated and will be removed in a future version.\n",
      "Instructions for updating:\n",
      "Colocations handled automatically by placer.\n"
     ],
     "output_type": "stream"
    }
   ],
   "source": [
    "x_data = tf.placeholder(tf.int32, [None, max_sequence_length]) #1*25的 输入\n",
    "y_output = tf.placeholder(tf.int32, [None])\n",
    "embedding_mat = tf.Variable(tf.random_uniform([vocab_size, embedding_size], -1.0, 1.0))\n",
    "embedding_output = tf.nn.embedding_lookup(embedding_mat, x_data)"
   ],
   "metadata": {
    "collapsed": false,
    "pycharm": {
     "name": "#%%\n",
     "is_executing": false
    }
   }
  },
  {
   "cell_type": "code",
   "execution_count": 12,
   "outputs": [
    {
     "name": "stdout",
     "text": [
      "WARNING:tensorflow:From <ipython-input-12-79ea52c3d33f>:1: BasicRNNCell.__init__ (from tensorflow.python.ops.rnn_cell_impl) is deprecated and will be removed in a future version.\n",
      "Instructions for updating:\n",
      "This class is equivalent as tf.keras.layers.SimpleRNNCell, and will be replaced by that in Tensorflow 2.0.\n",
      "WARNING:tensorflow:From <ipython-input-12-79ea52c3d33f>:2: dynamic_rnn (from tensorflow.python.ops.rnn) is deprecated and will be removed in a future version.\n",
      "Instructions for updating:\n",
      "Please use `keras.layers.RNN(cell)`, which is equivalent to this API\n",
      "WARNING:tensorflow:From <ipython-input-12-79ea52c3d33f>:3: calling dropout (from tensorflow.python.ops.nn_ops) with keep_prob is deprecated and will be removed in a future version.\n",
      "Instructions for updating:\n",
      "Please use `rate` instead of `keep_prob`. Rate should be set to `rate = 1 - keep_prob`.\n"
     ],
     "output_type": "stream"
    }
   ],
   "source": [
    "cell = tf.nn.rnn_cell.BasicRNNCell(num_units = rnn_size)\n",
    "output, state = tf.nn.dynamic_rnn(cell=cell,inputs= embedding_output, dtype=tf.float32)\n",
    "output = tf.nn.dropout(output, dropout_keep_prob)\n"
   ],
   "metadata": {
    "collapsed": false,
    "pycharm": {
     "name": "#%%\n",
     "is_executing": false
    }
   }
  },
  {
   "cell_type": "code",
   "execution_count": 22,
   "outputs": [
    {
     "traceback": [
      "\u001b[1;31m---------------------------------------------------------------------------\u001b[0m",
      "\u001b[1;31mTypeError\u001b[0m                                 Traceback (most recent call last)",
      "\u001b[1;32m<ipython-input-22-2d53e231b9b4>\u001b[0m in \u001b[0;36m<module>\u001b[1;34m\u001b[0m\n\u001b[0;32m      1\u001b[0m \u001b[0moutput\u001b[0m \u001b[1;33m=\u001b[0m \u001b[0mtf\u001b[0m\u001b[1;33m.\u001b[0m\u001b[0mtranspose\u001b[0m\u001b[1;33m(\u001b[0m\u001b[0moutput\u001b[0m\u001b[1;33m,\u001b[0m \u001b[1;33m[\u001b[0m\u001b[1;36m1\u001b[0m\u001b[1;33m,\u001b[0m \u001b[1;36m0\u001b[0m\u001b[1;33m,\u001b[0m \u001b[1;36m2\u001b[0m\u001b[1;33m]\u001b[0m\u001b[1;33m)\u001b[0m\u001b[1;33m\u001b[0m\u001b[1;33m\u001b[0m\u001b[0m\n\u001b[1;32m----> 2\u001b[1;33m \u001b[0mlast\u001b[0m \u001b[1;33m=\u001b[0m \u001b[0mtf\u001b[0m\u001b[1;33m.\u001b[0m\u001b[0mgather\u001b[0m\u001b[1;33m(\u001b[0m\u001b[0mparams\u001b[0m\u001b[1;33m=\u001b[0m\u001b[0moutput\u001b[0m\u001b[1;33m,\u001b[0m \u001b[0maxis\u001b[0m\u001b[1;33m=\u001b[0m\u001b[0mint\u001b[0m\u001b[1;33m(\u001b[0m\u001b[0moutput\u001b[0m\u001b[1;33m.\u001b[0m\u001b[0mget_shape\u001b[0m\u001b[1;33m(\u001b[0m\u001b[1;33m)\u001b[0m\u001b[1;33m[\u001b[0m\u001b[1;36m0\u001b[0m\u001b[1;33m]\u001b[0m\u001b[1;33m)\u001b[0m \u001b[1;33m-\u001b[0m \u001b[1;36m1\u001b[0m\u001b[1;33m)\u001b[0m\u001b[1;33m\u001b[0m\u001b[1;33m\u001b[0m\u001b[0m\n\u001b[0m",
      "\u001b[1;31mTypeError\u001b[0m: __int__ returned non-int (type NoneType)"
     ],
     "ename": "TypeError",
     "evalue": "__int__ returned non-int (type NoneType)",
     "output_type": "error"
    }
   ],
   "source": [
    "output = tf.transpose(output, [1, 0, 2])\n",
    "last = tf.gather(params=output, axis=int(output.get_shape()[0]) - 1)"
   ],
   "metadata": {
    "collapsed": false,
    "pycharm": {
     "name": "#%%\n",
     "is_executing": false
    }
   }
  },
  {
   "cell_type": "code",
   "execution_count": 14,
   "outputs": [],
   "source": [
    "weight = tf.Variable(tf.truncated_normal([rnn_size, 2], stddev=0.1)) #全连接层\n",
    "bias = tf.Variable(tf.constant(0.1, shape=[2]))\n",
    "logits_out = tf.nn.softmax(tf.matmul(last, weight) + bias)"
   ],
   "metadata": {
    "collapsed": false,
    "pycharm": {
     "name": "#%%\n",
     "is_executing": false
    }
   }
  },
  {
   "cell_type": "code",
   "execution_count": 15,
   "outputs": [],
   "source": [
    "losses = tf.nn.sparse_softmax_cross_entropy_with_logits(logits=logits_out,labels=y_output)\n",
    "loss = tf.reduce_mean(losses)\n",
    "accuracy = tf.reduce_mean(tf.cast(tf.equal(tf.argmax(logits_out, 1), tf.cast(y_output, tf.int64)), tf.float32))"
   ],
   "metadata": {
    "collapsed": false,
    "pycharm": {
     "name": "#%%\n",
     "is_executing": false
    }
   }
  },
  {
   "cell_type": "code",
   "execution_count": 16,
   "outputs": [
    {
     "name": "stdout",
     "text": [
      "WARNING:tensorflow:From D:\\software\\anaconda\\lib\\site-packages\\tensorflow\\python\\ops\\array_grad.py:425: to_int32 (from tensorflow.python.ops.math_ops) is deprecated and will be removed in a future version.\n",
      "Instructions for updating:\n",
      "Use tf.cast instead.\n",
      "WARNING:tensorflow:From D:\\software\\anaconda\\lib\\site-packages\\tensorflow\\python\\util\\tf_should_use.py:193: initialize_all_variables (from tensorflow.python.ops.variables) is deprecated and will be removed after 2017-03-02.\n",
      "Instructions for updating:\n",
      "Use `tf.global_variables_initializer` instead.\n"
     ],
     "output_type": "stream"
    },
    {
     "name": "stderr",
     "text": [
      "D:\\software\\anaconda\\lib\\site-packages\\tensorflow\\python\\ops\\gradients_impl.py:110: UserWarning: Converting sparse IndexedSlices to a dense Tensor of unknown shape. This may consume a large amount of memory.\n",
      "  \"Converting sparse IndexedSlices to a dense Tensor of unknown shape. \"\n"
     ],
     "output_type": "stream"
    }
   ],
   "source": [
    "optimizer = tf.train.RMSPropOptimizer(learning_rate)\n",
    "train_step = optimizer.minimize(loss)\n",
    "init = tf.initialize_all_variables()\n",
    "sess.run(init)\n",
    "\n"
   ],
   "metadata": {
    "collapsed": false,
    "pycharm": {
     "name": "#%%\n",
     "is_executing": false
    }
   }
  },
  {
   "cell_type": "code",
   "execution_count": 18,
   "outputs": [
    {
     "name": "stdout",
     "text": [
      "Epoch: 1, Test Loss: 0.45, Test Acc: 0.87\n",
      "Epoch: 2, Test Loss: 0.45, Test Acc: 0.87\n",
      "Epoch: 3, Test Loss: 0.45, Test Acc: 0.87\n",
      "Epoch: 4, Test Loss: 0.44, Test Acc: 0.87\n",
      "Epoch: 5, Test Loss: 0.44, Test Acc: 0.87\n",
      "Epoch: 6, Test Loss: 0.44, Test Acc: 0.87\n",
      "Epoch: 7, Test Loss: 0.44, Test Acc: 0.87\n",
      "Epoch: 8, Test Loss: 0.44, Test Acc: 0.88\n",
      "Epoch: 9, Test Loss: 0.44, Test Acc: 0.88\n",
      "Epoch: 10, Test Loss: 0.44, Test Acc: 0.88\n",
      "Epoch: 11, Test Loss: 0.44, Test Acc: 0.88\n",
      "Epoch: 12, Test Loss: 0.44, Test Acc: 0.88\n",
      "Epoch: 13, Test Loss: 0.44, Test Acc: 0.88\n",
      "Epoch: 14, Test Loss: 0.44, Test Acc: 0.88\n",
      "Epoch: 15, Test Loss: 0.43, Test Acc: 0.88\n",
      "Epoch: 16, Test Loss: 0.43, Test Acc: 0.88\n",
      "Epoch: 17, Test Loss: 0.43, Test Acc: 0.88\n",
      "Epoch: 18, Test Loss: 0.43, Test Acc: 0.88\n",
      "Epoch: 19, Test Loss: 0.43, Test Acc: 0.88\n",
      "Epoch: 20, Test Loss: 0.43, Test Acc: 0.88\n",
      "Epoch: 21, Test Loss: 0.42, Test Acc: 0.89\n",
      "Epoch: 22, Test Loss: 0.4, Test Acc: 0.92\n",
      "Epoch: 23, Test Loss: 0.38, Test Acc: 0.93\n",
      "Epoch: 24, Test Loss: 0.39, Test Acc: 0.93\n",
      "Epoch: 25, Test Loss: 0.38, Test Acc: 0.94\n",
      "Epoch: 26, Test Loss: 0.4, Test Acc: 0.91\n",
      "Epoch: 27, Test Loss: 0.38, Test Acc: 0.94\n",
      "Epoch: 28, Test Loss: 0.38, Test Acc: 0.94\n",
      "Epoch: 29, Test Loss: 0.38, Test Acc: 0.94\n",
      "Epoch: 30, Test Loss: 0.38, Test Acc: 0.94\n",
      "Epoch: 31, Test Loss: 0.38, Test Acc: 0.94\n",
      "Epoch: 32, Test Loss: 0.38, Test Acc: 0.93\n",
      "Epoch: 33, Test Loss: 0.37, Test Acc: 0.94\n",
      "Epoch: 34, Test Loss: 0.37, Test Acc: 0.94\n",
      "Epoch: 35, Test Loss: 0.38, Test Acc: 0.93\n",
      "Epoch: 36, Test Loss: 0.37, Test Acc: 0.94\n",
      "Epoch: 37, Test Loss: 0.37, Test Acc: 0.94\n",
      "Epoch: 38, Test Loss: 0.38, Test Acc: 0.94\n",
      "Epoch: 39, Test Loss: 0.37, Test Acc: 0.95\n",
      "Epoch: 40, Test Loss: 0.37, Test Acc: 0.94\n",
      "Epoch: 41, Test Loss: 0.4, Test Acc: 0.91\n",
      "Epoch: 42, Test Loss: 0.36, Test Acc: 0.95\n",
      "Epoch: 43, Test Loss: 0.36, Test Acc: 0.95\n",
      "Epoch: 44, Test Loss: 0.37, Test Acc: 0.95\n",
      "Epoch: 45, Test Loss: 0.36, Test Acc: 0.95\n",
      "Epoch: 46, Test Loss: 0.36, Test Acc: 0.95\n",
      "Epoch: 47, Test Loss: 0.36, Test Acc: 0.95\n",
      "Epoch: 48, Test Loss: 0.36, Test Acc: 0.95\n",
      "Epoch: 49, Test Loss: 0.36, Test Acc: 0.95\n",
      "Epoch: 50, Test Loss: 0.36, Test Acc: 0.95\n",
      "Epoch: 51, Test Loss: 0.38, Test Acc: 0.93\n",
      "Epoch: 52, Test Loss: 0.36, Test Acc: 0.96\n",
      "Epoch: 53, Test Loss: 0.36, Test Acc: 0.96\n",
      "Epoch: 54, Test Loss: 0.36, Test Acc: 0.96\n",
      "Epoch: 55, Test Loss: 0.36, Test Acc: 0.96\n",
      "Epoch: 56, Test Loss: 0.36, Test Acc: 0.96\n",
      "Epoch: 57, Test Loss: 0.36, Test Acc: 0.95\n",
      "Epoch: 58, Test Loss: 0.36, Test Acc: 0.96\n",
      "Epoch: 59, Test Loss: 0.36, Test Acc: 0.96\n",
      "Epoch: 60, Test Loss: 0.36, Test Acc: 0.96\n",
      "Epoch: 61, Test Loss: 0.36, Test Acc: 0.96\n",
      "Epoch: 62, Test Loss: 0.36, Test Acc: 0.96\n",
      "Epoch: 63, Test Loss: 0.36, Test Acc: 0.95\n",
      "Epoch: 64, Test Loss: 0.36, Test Acc: 0.96\n",
      "Epoch: 65, Test Loss: 0.36, Test Acc: 0.96\n",
      "Epoch: 66, Test Loss: 0.35, Test Acc: 0.96\n",
      "Epoch: 67, Test Loss: 0.37, Test Acc: 0.95\n",
      "Epoch: 68, Test Loss: 0.37, Test Acc: 0.94\n",
      "Epoch: 69, Test Loss: 0.36, Test Acc: 0.95\n",
      "Epoch: 70, Test Loss: 0.36, Test Acc: 0.96\n",
      "Epoch: 71, Test Loss: 0.36, Test Acc: 0.96\n",
      "Epoch: 72, Test Loss: 0.36, Test Acc: 0.95\n",
      "Epoch: 73, Test Loss: 0.36, Test Acc: 0.95\n",
      "Epoch: 74, Test Loss: 0.35, Test Acc: 0.96\n",
      "Epoch: 75, Test Loss: 0.36, Test Acc: 0.95\n",
      "Epoch: 76, Test Loss: 0.35, Test Acc: 0.96\n",
      "Epoch: 77, Test Loss: 0.36, Test Acc: 0.96\n",
      "Epoch: 78, Test Loss: 0.35, Test Acc: 0.96\n",
      "Epoch: 79, Test Loss: 0.36, Test Acc: 0.95\n",
      "Epoch: 80, Test Loss: 0.35, Test Acc: 0.96\n",
      "Epoch: 81, Test Loss: 0.35, Test Acc: 0.96\n",
      "Epoch: 82, Test Loss: 0.35, Test Acc: 0.96\n",
      "Epoch: 83, Test Loss: 0.35, Test Acc: 0.96\n",
      "Epoch: 84, Test Loss: 0.38, Test Acc: 0.94\n",
      "Epoch: 85, Test Loss: 0.35, Test Acc: 0.96\n",
      "Epoch: 86, Test Loss: 0.35, Test Acc: 0.96\n",
      "Epoch: 87, Test Loss: 0.36, Test Acc: 0.95\n",
      "Epoch: 88, Test Loss: 0.35, Test Acc: 0.96\n",
      "Epoch: 89, Test Loss: 0.35, Test Acc: 0.96\n",
      "Epoch: 90, Test Loss: 0.35, Test Acc: 0.96\n",
      "Epoch: 91, Test Loss: 0.36, Test Acc: 0.96\n",
      "Epoch: 92, Test Loss: 0.36, Test Acc: 0.95\n",
      "Epoch: 93, Test Loss: 0.35, Test Acc: 0.96\n",
      "Epoch: 94, Test Loss: 0.36, Test Acc: 0.95\n",
      "Epoch: 95, Test Loss: 0.35, Test Acc: 0.96\n",
      "Epoch: 96, Test Loss: 0.35, Test Acc: 0.96\n",
      "Epoch: 97, Test Loss: 0.36, Test Acc: 0.95\n",
      "Epoch: 98, Test Loss: 0.36, Test Acc: 0.96\n",
      "Epoch: 99, Test Loss: 0.35, Test Acc: 0.96\n",
      "Epoch: 100, Test Loss: 0.35, Test Acc: 0.96\n"
     ],
     "output_type": "stream"
    }
   ],
   "source": [
    "train_loss = []\n",
    "test_loss = []\n",
    "train_accuracy = []\n",
    "test_accuracy = []\n",
    "for epoch in range(100): #迭代次数\n",
    "    shuffled_ix = np.random.permutation(np.arange(len(x_train)))\n",
    "    # 每一次迭代都需要打乱顺序\n",
    "    x_train = x_train[shuffled_ix]\n",
    "    y_train = y_train[shuffled_ix]\n",
    "    num_batches = int(len(x_train)/batch_size) + 1 #计算得出具体的批次数\n",
    "    for i in range(num_batches):\n",
    "        min_ix = i * batch_size  #这个批次训练x的最小index\n",
    "        max_ix = np.min([len(x_train), ((i+1) * batch_size)]) #这个批次训练x的最大index\n",
    "        x_train_batch = x_train[min_ix:max_ix]\n",
    "        y_train_batch = y_train[min_ix:max_ix]\n",
    "        train_dict={\n",
    "            x_data:x_train_batch,\n",
    "            y_output:y_train_batch,\n",
    "            dropout_keep_prob:0.5\n",
    "        }\n",
    "        sess.run(train_step, feed_dict=train_dict)\n",
    "    temp_train_loss, temp_train_acc = sess.run([loss, accuracy], feed_dict=train_dict)\n",
    "    train_loss.append(temp_train_loss)\n",
    "    train_accuracy.append(temp_train_acc)\n",
    "    test_dict = {x_data: x_test, y_output: y_test, dropout_keep_prob:1.0}\n",
    "    temp_test_loss, temp_test_acc = sess.run([loss, accuracy], feed_dict=test_dict)\n",
    "    test_loss.append(temp_test_loss)\n",
    "    test_accuracy.append(temp_test_acc)\n",
    "    print('Epoch: {}, Test Loss: {:.2}, Test Acc: {:.2}'.format(epoch+1, temp_test_loss, temp_test_acc))\n",
    "#Epoch: 100, Test Loss: 0.35, Test Acc: 0.96"
   ],
   "metadata": {
    "collapsed": false,
    "pycharm": {
     "name": "#%%\n",
     "is_executing": false
    }
   }
  },
  {
   "cell_type": "code",
   "execution_count": 21,
   "outputs": [
    {
     "data": {
      "text/plain": "<Figure size 432x288 with 1 Axes>",
      "image/png": "[encoded data removed]"
     },
     "metadata": {
      "needs_background": "light"
     },
     "output_type": "display_data"
    }
   ],
   "source": [
    "epoch_seq = np.arange(1, 100+1)\n",
    "plt.plot(epoch_seq, train_loss, 'k--', label='Train Set')\n",
    "plt.plot(epoch_seq, test_loss, 'r-', label='Test Set')\n",
    "plt.title('Softmax Loss')\n",
    "plt.xlabel('Epochs')\n",
    "plt.ylabel('Softmax Loss')\n",
    "plt.legend(loc='upper left')\n",
    "plt.show()"
   ],
   "metadata": {
    "collapsed": false,
    "pycharm": {
     "name": "#%%\n",
     "is_executing": false
    }
   }
  },
  {
   "cell_type": "code",
   "execution_count": null,
   "outputs": [],
   "source": [
    "\n"
   ],
   "metadata": {
    "collapsed": false,
    "pycharm": {
     "name": "#%%\n"
    }
   }
  }
 ],
 "metadata": {
  "kernelspec": {
   "display_name": "Python 3",
   "language": "python",
   "name": "python3"
  },
  "language_info": {
   "codemirror_mode": {
    "name": "ipython",
    "version": 2
   },
   "file_extension": ".py",
   "mimetype": "text/x-python",
   "name": "python",
   "nbconvert_exporter": "python",
   "pygments_lexer": "ipython2",
   "version": "2.7.6"
  },
  "pycharm": {
   "stem_cell": {
    "cell_type": "raw",
    "source": [],
    "metadata": {
     "collapsed": false
    }
   }
  }
 },
 "nbformat": 4,
 "nbformat_minor": 0
}