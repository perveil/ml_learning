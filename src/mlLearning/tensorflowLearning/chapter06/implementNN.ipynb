{
 "cells": [
  {
   "cell_type": "code",
   "execution_count": 38,
   "metadata": {
    "collapsed": true,
    "pycharm": {
     "is_executing": false
    }
   },
   "outputs": [],
   "source": [
    "import tensorflow as tf\n",
    "import numpy as np\n",
    "sess = tf.Session()\n",
    "\n"
   ]
  },
  {
   "cell_type": "code",
   "execution_count": 50,
   "outputs": [],
   "source": [
    "data_size=[10,10]\n",
    "data_2d=np.random.normal(size=data_size)\n",
    "x_input_2d=tf.placeholder(dtype=tf.float32,shape=data_size)"
   ],
   "metadata": {
    "collapsed": false,
    "pycharm": {
     "name": "#%%\n",
     "is_executing": false
    }
   }
  },
  {
   "cell_type": "code",
   "execution_count": 51,
   "outputs": [],
   "source": [
    "def conv_layer_2d(input_2d,my_filter):\n",
    "    input_3d=tf.expand_dims(input_2d,0)\n",
    "    input_4d=tf.expand_dims(input_3d,3)\n",
    "    convolution_output=tf.nn.conv2d(input_4d,filter=my_filter,strides=[1,2,2,1],padding='VALID')\n",
    "    conv_output_2d=tf.squeeze(convolution_output)\n",
    "    return conv_output_2d\n",
    "\n"
   ],
   "metadata": {
    "collapsed": false,
    "pycharm": {
     "name": "#%%\n",
     "is_executing": false
    }
   }
  },
  {
   "cell_type": "code",
   "execution_count": 52,
   "outputs": [],
   "source": [
    "my_filter=tf.Variable(tf.random_normal(shape=[2,2,1,1]))\n",
    "my_convolution_output=conv_layer_2d(x_input_2d,my_filter)"
   ],
   "metadata": {
    "collapsed": false,
    "pycharm": {
     "name": "#%%\n",
     "is_executing": false
    }
   }
  },
  {
   "cell_type": "code",
   "execution_count": 53,
   "outputs": [],
   "source": [
    "def activation(input_2d):\n",
    "    return (tf.nn.relu(input_2d))\n",
    "my_activation_output=activation(my_convolution_output)\n"
   ],
   "metadata": {
    "collapsed": false,
    "pycharm": {
     "name": "#%%\n",
     "is_executing": false
    }
   }
  },
  {
   "cell_type": "code",
   "execution_count": 54,
   "outputs": [],
   "source": [
    "def max_pool(input_2d, width, height):\n",
    "     # Make 2d input into 4d\n",
    "     input_3d = tf.expand_dims(input_2d, 0)\n",
    "     input_4d = tf.expand_dims(input_3d, 3)\n",
    "     # Perform max pool\n",
    "     pool_output = tf.nn.max_pool(input_4d, ksize=[1, height, width, 1], strides=[1, 1, 1, 1], padding='VALID')\n",
    "     # Drop extra dimensions\n",
    "     pool_output_2d = tf.squeeze(pool_output)\n",
    "     return(pool_output_2d)\n",
    "\n",
    "my_maxpool_output=max_pool(my_activation_output,width=2,height=2)"
   ],
   "metadata": {
    "collapsed": false,
    "pycharm": {
     "name": "#%%\n",
     "is_executing": false
    }
   }
  },
  {
   "cell_type": "code",
   "execution_count": 55,
   "outputs": [
    {
     "data": {
      "text/plain": "array([[6],\n       [5]])"
     },
     "metadata": {},
     "output_type": "execute_result",
     "execution_count": 55
    }
   ],
   "source": [
    "input_layer=[[1,2,3],[4,5,6]]\n",
    "flat_input = tf.reshape(input_layer, [-1])\n",
    "b=tf.stack([tf.shape(flat_input),[5]])\n",
    "sess.run(b)"
   ],
   "metadata": {
    "collapsed": false,
    "pycharm": {
     "name": "#%%\n",
     "is_executing": false
    }
   }
  },
  {
   "cell_type": "code",
   "execution_count": 56,
   "outputs": [],
   "source": [
    "def fully_connected(input_layer, num_outputs):\n",
    "     # Flatten into 1d\n",
    "     flat_input = tf.reshape(input_layer, [-1])\n",
    "     # Create weights\n",
    "     weight_shape = tf.squeeze(tf.stack([tf.shape(flat_input), [num_outputs]]))\n",
    "     weight = tf.random_normal(weight_shape, stddev=0.1)\n",
    "     bias = tf.random_normal(shape=[num_outputs])\n",
    "     # Change into 2d\n",
    "     input_2d = tf.expand_dims(flat_input, 0) #[[....]] 矩阵运算最小也得是二维矩阵\n",
    "     # Perform fully connected operations\n",
    "     full_output = tf.add(tf.matmul(input_2d, weight), bias)\n",
    "     # Drop extra dimensions\n",
    "     full_output_2d = tf.squeeze(full_output)\n",
    "     return(full_output_2d)\n",
    "\n",
    "my_full_output = fully_connected(my_maxpool_output, 5)"
   ],
   "metadata": {
    "collapsed": false,
    "pycharm": {
     "name": "#%%\n",
     "is_executing": false
    }
   }
  },
  {
   "cell_type": "code",
   "execution_count": 57,
   "outputs": [],
   "source": [
    "init = tf.initialize_all_variables()\n",
    "sess.run(init)\n",
    "feed_dict = {x_input_2d: data_2d}\n",
    "\n"
   ],
   "metadata": {
    "collapsed": false,
    "pycharm": {
     "name": "#%%\n",
     "is_executing": false
    }
   }
  },
  {
   "cell_type": "code",
   "execution_count": 59,
   "outputs": [
    {
     "name": "stdout",
     "text": [
      "[[ 2.908999   -0.1641609  -3.062734   -1.06653     1.1923646 ]\n",
      " [ 0.44362104 -0.66061366 -0.26069498  0.11390175 -0.4379309 ]\n",
      " [-0.5758369  -1.0722833   3.207869    0.391202    6.0462656 ]\n",
      " [-2.630952    1.782664   -0.650222   -1.2511647   1.4332575 ]\n",
      " [ 2.3963683  -2.8587513   0.79734236 -1.4112978   0.4539472 ]]\n",
      "[[2.908999   0.         0.         0.         1.1923646 ]\n",
      " [0.44362104 0.         0.         0.11390175 0.        ]\n",
      " [0.         0.         3.207869   0.391202   6.0462656 ]\n",
      " [0.         1.782664   0.         0.         1.4332575 ]\n",
      " [2.3963683  0.         0.79734236 0.         0.4539472 ]]\n"
     ],
     "output_type": "stream"
    }
   ],
   "source": [
    "print(sess.run(my_convolution_output, feed_dict=feed_dict))\n",
    "print(sess.run(my_activation_output, feed_dict=feed_dict))"
   ],
   "metadata": {
    "collapsed": false,
    "pycharm": {
     "name": "#%%\n",
     "is_executing": false
    }
   }
  },
  {
   "cell_type": "code",
   "execution_count": 61,
   "outputs": [
    {
     "name": "stdout",
     "text": [
      "[[2.908999   0.         0.11390175 1.1923646 ]\n",
      " [0.44362104 3.207869   3.207869   6.0462656 ]\n",
      " [1.782664   3.207869   3.207869   6.0462656 ]\n",
      " [2.3963683  1.782664   0.79734236 1.4332575 ]]\n",
      "[ 1.4807174   1.9832926  -0.7996994  -0.94186026  1.5738395 ]\n"
     ],
     "output_type": "stream"
    }
   ],
   "source": [
    "print(sess.run(my_maxpool_output, feed_dict=feed_dict))\n",
    "\n",
    "print(sess.run(my_full_output, feed_dict=feed_dict))"
   ],
   "metadata": {
    "collapsed": false,
    "pycharm": {
     "name": "#%%\n",
     "is_executing": false
    }
   }
  },
  {
   "cell_type": "code",
   "execution_count": 65,
   "outputs": [
    {
     "data": {
      "text/plain": "array([[ 0.15469311,  0.00100633,  0.02050646, -0.08569198, -0.15535386,\n        -0.05579441, -0.07354119,  0.08520859, -0.006064  ,  0.03418545,\n        -0.0159076 ,  0.14631306, -0.01759062,  0.05069519, -0.05817909,\n        -0.10482784]], dtype=float32)"
     },
     "metadata": {},
     "output_type": "execute_result",
     "execution_count": 65
    }
   ],
   "source": [
    "init_vec= tf.random_normal(shape=[4,4], stddev=0.1)\n",
    "flat_input = tf.reshape(init_vec, [-1])\n",
    "weight_shape = tf.squeeze(tf.stack([tf.shape(flat_input), [5]]))\n",
    "\n",
    "input_2d = tf.expand_dims(flat_input, 0)\n",
    "sess.run(input_2d)"
   ],
   "metadata": {
    "collapsed": false,
    "pycharm": {
     "name": "#%%\n",
     "is_executing": false
    }
   }
  },
  {
   "cell_type": "code",
   "execution_count": null,
   "outputs": [],
   "source": [
    "\n"
   ],
   "metadata": {
    "collapsed": false,
    "pycharm": {
     "name": "#%%\n"
    }
   }
  }
 ],
 "metadata": {
  "kernelspec": {
   "display_name": "Python 3",
   "language": "python",
   "name": "python3"
  },
  "language_info": {
   "codemirror_mode": {
    "name": "ipython",
    "version": 2
   },
   "file_extension": ".py",
   "mimetype": "text/x-python",
   "name": "python",
   "nbconvert_exporter": "python",
   "pygments_lexer": "ipython2",
   "version": "2.7.6"
  },
  "pycharm": {
   "stem_cell": {
    "cell_type": "raw",
    "source": [],
    "metadata": {
     "collapsed": false
    }
   }
  }
 },
 "nbformat": 4,
 "nbformat_minor": 0
}