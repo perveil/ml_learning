{
 "cells": [
  {
   "cell_type": "code",
   "execution_count": 97,
   "outputs": [],
   "source": [
    "import matplotlib.pyplot as plt\n",
    "import numpy as np\n",
    "import tensorflow as tf\n",
    "from sklearn import datasets\n"
   ],
   "metadata": {
    "collapsed": false,
    "pycharm": {
     "name": "#%%\n",
     "is_executing": false
    }
   }
  },
  {
   "cell_type": "code",
   "execution_count": 98,
   "outputs": [],
   "source": [
    "sess=tf.Session()\n",
    "\n"
   ],
   "metadata": {
    "collapsed": false,
    "pycharm": {
     "name": "#%%\n",
     "is_executing": false
    }
   }
  },
  {
   "cell_type": "code",
   "execution_count": 99,
   "outputs": [],
   "source": [
    "iris=datasets.load_iris()\n",
    "x_vals=np.array([[x[0],x[3]] for x in iris.data])\n",
    "y_vals=np.array([1 if y==0  else -1 for y in iris.target])\n",
    "\n"
   ],
   "metadata": {
    "collapsed": false,
    "pycharm": {
     "name": "#%%\n",
     "is_executing": false
    }
   }
  },
  {
   "cell_type": "code",
   "execution_count": 100,
   "outputs": [],
   "source": [
    "def split_train_test_data(x_vals,y_vals):\n",
    "    train_indices = np.random.choice(len(x_vals), round(len(x_vals)*0.8), replace=False)\n",
    "    test_indices = np.array(list(set(range(len(x_vals))) - set(train_indices)))\n",
    "    x_vals_train = x_vals[train_indices]\n",
    "    x_vals_test = x_vals[test_indices]\n",
    "    y_vals_train = y_vals[train_indices]\n",
    "    y_vals_test = y_vals[test_indices]\n",
    "    return   x_vals_train,x_vals_test,y_vals_train,y_vals_test\n"
   ],
   "metadata": {
    "collapsed": false,
    "pycharm": {
     "name": "#%%\n",
     "is_executing": false
    }
   }
  },
  {
   "cell_type": "code",
   "execution_count": 101,
   "outputs": [],
   "source": [
    "x_vals_train,x_vals_test,y_vals_train,y_vals_test=split_train_test_data(x_vals,y_vals)\n",
    "batch_size=20\n",
    "x_data=tf.placeholder(shape=[None,2],dtype=tf.float32)\n",
    "y_target=tf.placeholder(shape=[None,1],dtype=tf.float32)\n",
    "\n",
    "A=tf.Variable(tf.random_normal(shape=[2,1]))\n",
    "b=tf.Variable(tf.random_normal(shape=[1,1]))"
   ],
   "metadata": {
    "collapsed": false,
    "pycharm": {
     "name": "#%%\n",
     "is_executing": false
    }
   }
  },
  {
   "cell_type": "code",
   "execution_count": 102,
   "outputs": [],
   "source": [
    "model_output=tf.subtract(tf.matmul(x_data,A),b)"
   ],
   "metadata": {
    "collapsed": false,
    "pycharm": {
     "name": "#%%\n",
     "is_executing": false
    }
   }
  },
  {
   "cell_type": "code",
   "execution_count": 103,
   "outputs": [],
   "source": [
    "l2_norm=tf.reduce_sum(tf.square(A))\n",
    "alpha=tf.constant([0.1])\n",
    "classfication_loss=tf.reduce_mean(tf.maximum(0.,tf.subtract(1.,tf.multiply(y_target,model_output))))\n",
    "loss=tf.add(classfication_loss,tf.multiply(alpha,l2_norm))\n"
   ],
   "metadata": {
    "collapsed": false,
    "pycharm": {
     "name": "#%%\n",
     "is_executing": false
    }
   }
  },
  {
   "cell_type": "code",
   "execution_count": 104,
   "outputs": [],
   "source": [
    "prediction = tf.sign(model_output)\n",
    "accuracy = tf.reduce_mean(tf.cast(tf.equal(prediction, y_target), tf.float32))"
   ],
   "metadata": {
    "collapsed": false,
    "pycharm": {
     "name": "#%%\n",
     "is_executing": false
    }
   }
  },
  {
   "cell_type": "code",
   "execution_count": 105,
   "outputs": [],
   "source": [
    "my_opt=tf.train.GradientDescentOptimizer(0.01)\n",
    "train_step=my_opt.minimize(loss)\n",
    "\n",
    "init=tf.initialize_all_variables()\n",
    "sess.run(init)"
   ],
   "metadata": {
    "collapsed": false,
    "pycharm": {
     "name": "#%%\n",
     "is_executing": false
    }
   }
  },
  {
   "cell_type": "code",
   "execution_count": 106,
   "outputs": [
    {
     "name": "stdout",
     "text": [
      "Step #100 A = [[-0.13408324]\n",
      " [-0.8104044 ]] b = [[-1.1471843]]\n",
      "Loss = [0.4443789]\n",
      "Step #200 A = [[-0.12625565]\n",
      " [-0.9166819 ]] b = [[-1.1941838]]\n",
      "Loss = [0.36357653]\n",
      "Step #300 A = [[-0.12901355]\n",
      " [-0.9988572 ]] b = [[-1.236184]]\n",
      "Loss = [0.32625154]\n",
      "Step #400 A = [[-0.10410502]\n",
      " [-1.0572925 ]] b = [[-1.2881835]]\n",
      "Loss = [0.25579494]\n",
      "Step #500 A = [[-0.09703889]\n",
      " [-1.1239154 ]] b = [[-1.338684]]\n",
      "Loss = [0.32924485]\n",
      "Step #600 A = [[-0.11187866]\n",
      " [-1.1610688 ]] b = [[-1.3811846]]\n",
      "Loss = [0.29541528]\n",
      "Step #700 A = [[-0.10876399]\n",
      " [-1.2092563 ]] b = [[-1.4306847]]\n",
      "Loss = [0.30682558]\n",
      "Step #800 A = [[-0.099784 ]\n",
      " [-1.2466617]] b = [[-1.4821854]]\n",
      "Loss = [0.318494]\n",
      "Step #900 A = [[-0.10765461]\n",
      " [-1.2701097 ]] b = [[-1.528186]]\n",
      "Loss = [0.2634983]\n",
      "Step #1000 A = [[-0.09286406]\n",
      " [-1.2864169 ]] b = [[-1.5756863]]\n",
      "Loss = [0.30753732]\n"
     ],
     "output_type": "stream"
    }
   ],
   "source": [
    "loss_vec=[]\n",
    "train_acc=[]\n",
    "test_acc=[]\n",
    "for i in range(1000):\n",
    "    rand_indexs=np.random.choice(len(x_vals_train),size=batch_size)\n",
    "    rand_x=x_vals_train[rand_indexs]\n",
    "    rand_y=np.transpose([y_vals_train[rand_indexs]])\n",
    "    sess.run(train_step,feed_dict={x_data:rand_x,y_target:rand_y})\n",
    "    \n",
    "    temp_loss=sess.run(loss,feed_dict={x_data:rand_x,y_target:rand_y})\n",
    "    loss_vec.append(temp_loss)\n",
    "    \n",
    "    train_acc_temp= sess.run(accuracy, feed_dict={x_data: x_vals_train, y_target: np.transpose([y_vals_train])})\n",
    "    train_acc.append(train_acc_temp)\n",
    "    \n",
    "    test_acc_temp=sess.run(accuracy,feed_dict={x_data: x_vals_test, y_target: np.transpose([y_vals_test])})\n",
    "    test_acc.append(test_acc_temp)\n",
    "    if (i+1)%100==0:\n",
    "     print('Step #' + str(i+1) + ' A = ' + str(sess.run(A)) + ' b = ' + str(sess.run(b)))\n",
    "     print('Loss = ' + str(temp_loss))"
   ],
   "metadata": {
    "collapsed": false,
    "pycharm": {
     "name": "#%%\n",
     "is_executing": false
    }
   }
  },
  {
   "cell_type": "code",
   "execution_count": 107,
   "outputs": [],
   "source": [
    "[[a1], [a2]] = sess.run(A)\n",
    "[[b]] = sess.run(b)\n",
    "slope = -a2/a1\n",
    "y_intercept = b/a1\n",
    "x1_vals = [d[1] for d in x_vals]\n",
    "best_fit = []\n",
    "for i in x1_vals:\n",
    "    best_fit.append(slope*i+y_intercept)\n",
    "    setosa_x = [d[1] for i,d in enumerate(x_vals) if y_vals[i]==1]\n",
    "    setosa_y = [d[0] for i,d in enumerate(x_vals) if y_vals[i]==1]\n",
    "    not_setosa_x = [d[1] for i,d in enumerate(x_vals) if y_vals[i]==-1]\n",
    "    not_setosa_y = [d[0] for i,d in enumerate(x_vals) if y_vals[i]==-1]\n",
    "\n"
   ],
   "metadata": {
    "collapsed": false,
    "pycharm": {
     "name": "#%%\n",
     "is_executing": false
    }
   }
  },
  {
   "cell_type": "code",
   "execution_count": 108,
   "outputs": [
    {
     "data": {
      "text/plain": "<Figure size 432x288 with 1 Axes>",
      "image/png": "[encoded data removed]"
     },
     "metadata": {
      "needs_background": "light"
     },
     "output_type": "display_data"
    }
   ],
   "source": [
    "plt.plot(setosa_x, setosa_y, 'o', label='I. setosa')\n",
    "plt.plot(not_setosa_x, not_setosa_y, 'x', label='Non-setosa')\n",
    "plt.plot(x1_vals, best_fit, 'r-', label='Linear Separator', \n",
    "linewidth=3)\n",
    "plt.ylim([0, 10])\n",
    "plt.legend(loc='lower right')\n",
    "plt.title('Sepal Length vs Pedal Width')\n",
    "plt.xlabel('Pedal Width')\n",
    "plt.ylabel('Sepal Length')\n",
    "plt.show()"
   ],
   "metadata": {
    "collapsed": false,
    "pycharm": {
     "name": "#%%\n",
     "is_executing": false
    }
   }
  },
  {
   "cell_type": "code",
   "execution_count": 108,
   "outputs": [],
   "source": [
    "\n"
   ],
   "metadata": {
    "collapsed": false,
    "pycharm": {
     "name": "#%%\n",
     "is_executing": false
    }
   }
  }
 ],
 "metadata": {
  "kernelspec": {
   "display_name": "Python 3",
   "language": "python",
   "name": "python3"
  },
  "language_info": {
   "codemirror_mode": {
    "name": "ipython",
    "version": 2
   },
   "file_extension": ".py",
   "mimetype": "text/x-python",
   "name": "python",
   "nbconvert_exporter": "python",
   "pygments_lexer": "ipython2",
   "version": "2.7.6"
  },
  "pycharm": {
   "stem_cell": {
    "cell_type": "raw",
    "source": [],
    "metadata": {
     "collapsed": false
    }
   }
  }
 },
 "nbformat": 4,
 "nbformat_minor": 0
}